{
 "cells": [
  {
   "cell_type": "markdown",
   "metadata": {},
   "source": [
    "# Self-Driving Car Engineer Nanodegree\n",
    "\n",
    "## Deep Learning\n",
    "\n",
    "## Project: Build a Traffic Sign Recognition Classifier\n",
    "\n",
    "In this notebook, a template is provided for you to implement your functionality in stages, which is required to successfully complete this project. If additional code is required that cannot be included in the notebook, be sure that the Python code is successfully imported and included in your submission if necessary. \n",
    "\n",
    "> **Note**: Once you have completed all of the code implementations, you need to finalize your work by exporting the iPython Notebook as an HTML document. Before exporting the notebook to html, all of the code cells need to have been run so that reviewers can see the final implementation and output. You can then export the notebook by using the menu above and navigating to  \\n\",\n",
    "    \"**File -> Download as -> HTML (.html)**. Include the finished document along with this notebook as your submission. \n",
    "\n",
    "In addition to implementing code, there is a writeup to complete. The writeup should be completed in a separate file, which can be either a markdown file or a pdf document. There is a [write up template](https://github.com/udacity/CarND-Traffic-Sign-Classifier-Project/blob/master/writeup_template.md) that can be used to guide the writing process. Completing the code template and writeup template will cover all of the [rubric points](https://review.udacity.com/#!/rubrics/481/view) for this project.\n",
    "\n",
    "The [rubric](https://review.udacity.com/#!/rubrics/481/view) contains \"Stand Out Suggestions\" for enhancing the project beyond the minimum requirements. The stand out suggestions are optional. If you decide to pursue the \"stand out suggestions\", you can include the code in this Ipython notebook and also discuss the results in the writeup file.\n",
    "\n",
    "\n",
    ">**Note:** Code and Markdown cells can be executed using the **Shift + Enter** keyboard shortcut. In addition, Markdown cells can be edited by typically double-clicking the cell to enter edit mode."
   ]
  },
  {
   "cell_type": "markdown",
   "metadata": {},
   "source": [
    "---\n",
    "## Step 0: Load The Data"
   ]
  },
  {
   "cell_type": "raw",
   "metadata": {},
   "source": [
    "TODO:\n",
    "\n",
    "1) Work on preprocessing\n",
    "2) Try other network topologies (inception?)"
   ]
  },
  {
   "cell_type": "code",
   "execution_count": 1,
   "metadata": {},
   "outputs": [],
   "source": [
    "import cv2\n",
    "import os\n",
    "\n",
    "import numpy as np\n",
    "import pandas as pd\n",
    "import tensorflow as tf\n",
    "\n",
    "from sklearn.utils import shuffle\n",
    "\n",
    "dataset_dir = \"datasets\"\n",
    "\n",
    "np.random.seed(1)\n",
    "tf.set_random_seed(1)"
   ]
  },
  {
   "cell_type": "code",
   "execution_count": 2,
   "metadata": {},
   "outputs": [
    {
     "name": "stdout",
     "output_type": "stream",
     "text": [
      "Datasets have already been downloaded.\n"
     ]
    }
   ],
   "source": [
    "from urllib.request import urlretrieve\n",
    "\n",
    "source = \"https://d17h27t6h515a5.cloudfront.net/topher/2017/February/5898cd6f_traffic-signs-data/traffic-signs-data.zip\"\n",
    "\n",
    "if not os.path.exists(dataset_dir):\n",
    "    os.makedirs(dataset_dir)\n",
    "\n",
    "target = os.path.join(dataset_dir, \"dataset.zip\")\n",
    "\n",
    "if not os.path.isfile(target):\n",
    "    urlretrieve(source, target)\n",
    "    print(\"Finished downloading datasets.\")\n",
    "else:\n",
    "    print(\"Datasets have already been downloaded.\")"
   ]
  },
  {
   "cell_type": "code",
   "execution_count": 3,
   "metadata": {},
   "outputs": [
    {
     "name": "stdout",
     "output_type": "stream",
     "text": [
      "Unzipped files found - skipping.\n"
     ]
    }
   ],
   "source": [
    "from zipfile import ZipFile\n",
    "\n",
    "unzipped_exists = os.path.isdir(os.path.join(dataset_dir, \"training\"))\n",
    "\n",
    "if not unzipped_exists:\n",
    "    with ZipFile(target, \"r\") as zipped:\n",
    "        zipped.extractall(dataset_dir)\n",
    "    print(\"Finished extracting zip files.\")\n",
    "else:\n",
    "    print(\"Unzipped files found - skipping.\")"
   ]
  },
  {
   "cell_type": "code",
   "execution_count": 4,
   "metadata": {},
   "outputs": [
    {
     "name": "stdout",
     "output_type": "stream",
     "text": [
      "Loaded pickle files.\n"
     ]
    }
   ],
   "source": [
    "# Load pickled data\n",
    "import pickle\n",
    "\n",
    "training_file = os.path.join(dataset_dir, \"training\", \"train.p\")\n",
    "validation_file = os.path.join(dataset_dir, \"training\", \"valid.p\")\n",
    "testing_file = os.path.join(dataset_dir, \"training\", \"test.p\")\n",
    "\n",
    "with open(training_file, mode='rb') as f:\n",
    "    train = pickle.load(f)\n",
    "with open(validation_file, mode='rb') as f:\n",
    "    valid = pickle.load(f)\n",
    "with open(testing_file, mode='rb') as f:\n",
    "    test = pickle.load(f)\n",
    "    \n",
    "X_train, y_train = train['features'], train['labels']\n",
    "X_valid, y_valid = valid['features'], valid['labels']\n",
    "X_test, y_test = test['features'], test['labels']\n",
    "\n",
    "preprocessed = False # Used to prevent us from preprocessing twice by mistake.\n",
    "\n",
    "print(\"Loaded pickle files.\")"
   ]
  },
  {
   "cell_type": "markdown",
   "metadata": {},
   "source": [
    "Below, we create a dataset where signs are roughly equirepresented.\n",
    "For now, we won't be using this training dataset, for two reasons:\n",
    "1) Using it did not increase performance.\n",
    "2) We should keep the data distribution similar between training and testing."
   ]
  },
  {
   "cell_type": "code",
   "execution_count": 5,
   "metadata": {},
   "outputs": [],
   "source": [
    "counts = np.bincount(y_train)\n",
    "\n",
    "n_classes = len(np.unique(y_train))\n",
    "\n",
    "label_to_inputs = {}\n",
    "\n",
    "for i in range(n_classes):\n",
    "    label_to_inputs[i] = X_train[y_train==i]\n",
    "\n",
    "target_count_per_sign = 10000\n",
    "\n",
    "def repeat_inputs(i):\n",
    "    q = target_count_per_sign//counts[i]\n",
    "    r = target_count_per_sign%counts[i]\n",
    "    q_array = np.repeat(label_to_inputs[i], repeats=q, axis=0)\n",
    "    r_array = label_to_inputs[i][np.random.choice(counts[i],r)]\n",
    "    return np.concatenate((q_array,r_array), axis=0)\n",
    "\n",
    "even_X_train = np.zeros([n_classes*target_count_per_sign, 32, 32, 3])\n",
    "\n",
    "for i in range(n_classes):\n",
    "    even_X_train[i*target_count_per_sign:(i+1)*target_count_per_sign] = repeat_inputs(i)\n",
    "\n",
    "even_y_train = np.repeat(np.arange(n_classes), repeats=target_count_per_sign, axis=0)\n",
    "\n",
    "even_X_train, even_y_train = shuffle(even_X_train, even_y_train)"
   ]
  },
  {
   "cell_type": "markdown",
   "metadata": {},
   "source": [
    "Below, we define a few image transformations that will be used for preprocessing/augmenting the dataset."
   ]
  },
  {
   "cell_type": "code",
   "execution_count": 6,
   "metadata": {},
   "outputs": [],
   "source": [
    "def equalize(img):\n",
    "    img_yuv = cv2.cvtColor(img, cv2.COLOR_BGR2YUV)\n",
    "    img_yuv[:,:,0] = cv2.equalizeHist(img_yuv[:,:,0]) # equalize Y-channel\n",
    "    equalized_img = cv2.cvtColor(img_yuv, cv2.COLOR_YUV2BGR)\n",
    "    return equalized_img\n",
    "\n",
    "def apply_blur(img):\n",
    "    return cv2.GaussianBlur(img,(5,5),0)\n",
    "\n",
    "def apply_homography(img):\n",
    "    source_points = np.array([[12,16], [16,20], [20,16], [16,12]],np.float32)\n",
    "    noise = np.random.normal(scale=0.2, size=source_points.shape)\n",
    "    target_points = source_points + noise\n",
    "    h, status = cv2.findHomography(source_points, target_points)\n",
    "    im_out = cv2.warpPerspective(img, h, dsize=(32,32))\n",
    "    return im_out"
   ]
  },
  {
   "cell_type": "markdown",
   "metadata": {},
   "source": [
    "We now augment the original training dataset to include homographies and blurred copies of the original images."
   ]
  },
  {
   "cell_type": "code",
   "execution_count": 7,
   "metadata": {},
   "outputs": [],
   "source": [
    "homographies = [apply_homography(x) for x in X_train]\n",
    "blurs = [apply_blur(x) for x in X_train]\n",
    "blurred_homographies = [apply_blur(x) for x in [apply_homography(xx) for xx in X_train]]\n",
    "to_stack = (X_train, X_train, X_train, homographies, blurs, blurred_homographies)\n",
    "augmented_X_train = np.concatenate(to_stack, axis=0)\n",
    "augmented_y_train = np.concatenate(len(to_stack)*(y_train,),axis=0)\n",
    "augmented_X_train, augmented_y_train = shuffle(augmented_X_train, augmented_y_train)"
   ]
  },
  {
   "cell_type": "markdown",
   "metadata": {},
   "source": [
    "---\n",
    "\n",
    "## Step 1: Dataset Summary & Exploration\n",
    "\n",
    "The pickled data is a dictionary with 4 key/value pairs:\n",
    "\n",
    "- `'features'` is a 4D array containing raw pixel data of the traffic sign images, (num examples, width, height, channels).\n",
    "- `'labels'` is a 1D array containing the label/class id of the traffic sign. The file `signnames.csv` contains id -> name mappings for each id.\n",
    "- `'sizes'` is a list containing tuples, (width, height) representing the original width and height the image.\n",
    "- `'coords'` is a list containing tuples, (x1, y1, x2, y2) representing coordinates of a bounding box around the sign in the image. **THESE COORDINATES ASSUME THE ORIGINAL IMAGE. THE PICKLED DATA CONTAINS RESIZED VERSIONS (32 by 32) OF THESE IMAGES**\n",
    "\n",
    "Complete the basic data summary below. Use python, numpy and/or pandas methods to calculate the data summary rather than hard coding the results. For example, the [pandas shape method](http://pandas.pydata.org/pandas-docs/stable/generated/pandas.DataFrame.shape.html) might be useful for calculating some of the summary results. "
   ]
  },
  {
   "cell_type": "markdown",
   "metadata": {},
   "source": [
    "### Provide a Basic Summary of the Data Set Using Python, Numpy and/or Pandas"
   ]
  },
  {
   "cell_type": "code",
   "execution_count": 8,
   "metadata": {},
   "outputs": [
    {
     "name": "stdout",
     "output_type": "stream",
     "text": [
      "Number of training examples = 34799\n",
      "Number of validation examples = 4410\n",
      "Number of testing examples = 12630\n",
      "Image data shape = (32, 32, 3)\n",
      "Number of classes = 43\n"
     ]
    }
   ],
   "source": [
    "### Replace each question mark with the appropriate value. \n",
    "### Use python, pandas or numpy methods rather than hard coding the results\n",
    "\n",
    "n_train = X_train.shape[0]\n",
    "\n",
    "n_validation = X_valid.shape[0]\n",
    "\n",
    "n_test = X_test.shape[0]\n",
    "\n",
    "image_shape = X_train.shape[1:]\n",
    "\n",
    "n_classes = len(np.unique(y_train))\n",
    "\n",
    "print(\"Number of training examples =\", n_train)\n",
    "print(\"Number of validation examples =\", n_validation)\n",
    "print(\"Number of testing examples =\", n_test)\n",
    "print(\"Image data shape =\", image_shape)\n",
    "print(\"Number of classes =\", n_classes)"
   ]
  },
  {
   "cell_type": "markdown",
   "metadata": {},
   "source": [
    "### Include an exploratory visualization of the dataset"
   ]
  },
  {
   "cell_type": "markdown",
   "metadata": {},
   "source": [
    "Visualize the German Traffic Signs Dataset using the pickled file(s). This is open ended, suggestions include: plotting traffic sign images, plotting the count of each sign, etc. \n",
    "\n",
    "The [Matplotlib](http://matplotlib.org/) [examples](http://matplotlib.org/examples/index.html) and [gallery](http://matplotlib.org/gallery.html) pages are a great resource for doing visualizations in Python.\n",
    "\n",
    "**NOTE:** It's recommended you start with something simple first. If you wish to do more, come back to it after you've completed the rest of the sections. It can be interesting to look at the distribution of classes in the training, validation and test set. Is the distribution the same? Are there more examples of some classes than others?"
   ]
  },
  {
   "cell_type": "code",
   "execution_count": 31,
   "metadata": {},
   "outputs": [
    {
     "data": {
      "image/png": "[encoded data removed]",
      "text/plain": [
       "<matplotlib.figure.Figure at 0x7f75162caa20>"
      ]
     },
     "metadata": {},
     "output_type": "display_data"
    },
    {
     "data": {
      "image/png": "[encoded data removed]",
      "text/plain": [
       "<matplotlib.figure.Figure at 0x7f7513e49048>"
      ]
     },
     "metadata": {},
     "output_type": "display_data"
    },
    {
     "data": {
      "image/png": "[encoded data removed]",
      "text/plain": [
       "<matplotlib.figure.Figure at 0x7f7516f76f60>"
      ]
     },
     "metadata": {},
     "output_type": "display_data"
    },
    {
     "data": {
      "image/png": "[encoded data removed]",
      "text/plain": [
       "<matplotlib.figure.Figure at 0x7f751636b240>"
      ]
     },
     "metadata": {},
     "output_type": "display_data"
    },
    {
     "data": {
      "image/png": "[encoded data removed]",
      "text/plain": [
       "<matplotlib.figure.Figure at 0x7f751631c9e8>"
      ]
     },
     "metadata": {},
     "output_type": "display_data"
    },
    {
     "data": {
      "image/png": "[encoded data removed]",
      "text/plain": [
       "<matplotlib.figure.Figure at 0x7f75563531d0>"
      ]
     },
     "metadata": {},
     "output_type": "display_data"
    },
    {
     "data": {
      "image/png": "[encoded data removed]",
      "text/plain": [
       "<matplotlib.figure.Figure at 0x7f75563428d0>"
      ]
     },
     "metadata": {},
     "output_type": "display_data"
    }
   ],
   "source": [
    "### Data exploration visualization code goes here.\n",
    "### Feel free to use as many code cells as needed.\n",
    "import matplotlib.pyplot as plt\n",
    "# Visualizations will be shown in the notebook.\n",
    "%matplotlib inline\n",
    "\n",
    "import random\n",
    "\n",
    "index = random.randint(0, n_train-1) # upper bound is inclusive here\n",
    "plt.figure(figsize=(3,3))\n",
    "plt.title(\"Randomly selected sign from training set (label: {})\".format(y_train[index]))\n",
    "img = X_train[index]\n",
    "plt.imshow(img)\n",
    "plt.xticks([])\n",
    "plt.yticks([])\n",
    "plt.show()\n",
    "\n",
    "equalized_img = equalize(img)\n",
    "\n",
    "plt.figure(figsize=(3,3))\n",
    "plt.title(\"Histogram-equalized version of the previous image\".format(y_train[index]))\n",
    "plt.imshow(equalized_img)\n",
    "plt.xticks([])\n",
    "plt.yticks([])\n",
    "plt.show()\n",
    "\n",
    "homography_example = apply_homography(equalized_img)\n",
    "\n",
    "plt.figure(figsize=(3,3))\n",
    "plt.title(\"Homography of equalized image\".format(y_train[index]))\n",
    "plt.imshow(homography_example)\n",
    "plt.xticks([])\n",
    "plt.yticks([])\n",
    "plt.show()\n",
    "\n",
    "blur = apply_blur(equalized_img)\n",
    "\n",
    "plt.figure(figsize=(3,3))\n",
    "plt.title(\"Blurred version of equalized image\".format(y_train[index]))\n",
    "plt.imshow(blur)\n",
    "plt.xticks([])\n",
    "plt.yticks([])\n",
    "plt.show()\n",
    "\n",
    "label_dict = {\n",
    "    \"training\": y_train,\n",
    "    \"validation\": y_valid,\n",
    "    \"testing\": y_test\n",
    "}\n",
    "\n",
    "for stage, y in label_dict.items():\n",
    "    plt.hist(y, bins=n_classes)\n",
    "    plt.title(\"Histogram of label frequencies in {} set\".format(stage))\n",
    "    plt.xlabel(\"Labels\")\n",
    "    plt.ylabel(\"Counts\")\n",
    "    plt.xticks(range(0, 43, 5))\n",
    "    plt.show()"
   ]
  },
  {
   "cell_type": "code",
   "execution_count": 10,
   "metadata": {},
   "outputs": [
    {
     "name": "stdout",
     "output_type": "stream",
     "text": [
      "0 Speed limit (20km/h)\n",
      "1 Speed limit (30km/h)\n",
      "2 Speed limit (50km/h)\n",
      "3 Speed limit (60km/h)\n",
      "4 Speed limit (70km/h)\n",
      "5 Speed limit (80km/h)\n",
      "6 End of speed limit (80km/h)\n",
      "7 Speed limit (100km/h)\n",
      "8 Speed limit (120km/h)\n",
      "9 No passing\n",
      "10 No passing for vehicles over 3.5 metric tons\n",
      "11 Right-of-way at the next intersection\n",
      "12 Priority road\n",
      "13 Yield\n",
      "14 Stop\n",
      "15 No vehicles\n",
      "16 Vehicles over 3.5 metric tons prohibited\n",
      "17 No entry\n",
      "18 General caution\n",
      "19 Dangerous curve to the left\n",
      "20 Dangerous curve to the right\n",
      "21 Double curve\n",
      "22 Bumpy road\n",
      "23 Slippery road\n",
      "24 Road narrows on the right\n",
      "25 Road work\n",
      "26 Traffic signals\n",
      "27 Pedestrians\n",
      "28 Children crossing\n",
      "29 Bicycles crossing\n",
      "30 Beware of ice/snow\n",
      "31 Wild animals crossing\n",
      "32 End of all speed and passing limits\n",
      "33 Turn right ahead\n",
      "34 Turn left ahead\n",
      "35 Ahead only\n",
      "36 Go straight or right\n",
      "37 Go straight or left\n",
      "38 Keep right\n",
      "39 Keep left\n",
      "40 Roundabout mandatory\n",
      "41 End of no passing\n",
      "42 End of no passing by vehicles over 3.5 metric tons\n"
     ]
    }
   ],
   "source": [
    "import csv\n",
    "\n",
    "with open('signnames.csv', 'r') as csvfile:\n",
    "    sign_reader = csv.reader(csvfile, delimiter=',')\n",
    "    id_to_name = n_classes*[\"\"]\n",
    "    for row in sign_reader: # skip headers\n",
    "        if row[0] == 'ClassId':\n",
    "            continue\n",
    "        id_to_name[int(row[0])] = row[1]\n",
    "id_to_name = np.array(id_to_name)\n",
    "for k,v in zip(range(n_classes), id_to_name):\n",
    "    print(k, v)"
   ]
  },
  {
   "cell_type": "code",
   "execution_count": 11,
   "metadata": {},
   "outputs": [
    {
     "name": "stdout",
     "output_type": "stream",
     "text": [
      "['Speed limit (50km/h)' 'Speed limit (30km/h)' 'Yield' 'Priority road'\n",
      " 'Keep right' 'No passing for vehicles over 3.5 metric tons'\n",
      " 'Speed limit (70km/h)' 'Speed limit (80km/h)' 'Road work' 'No passing'\n",
      " 'Speed limit (100km/h)' 'Speed limit (120km/h)' 'Speed limit (60km/h)'\n",
      " 'Right-of-way at the next intersection' 'Ahead only' 'General caution'\n",
      " 'No entry' 'Wild animals crossing' 'Stop' 'Turn right ahead' 'No vehicles'\n",
      " 'Traffic signals' 'Children crossing' 'Slippery road' 'Beware of ice/snow'\n",
      " 'Turn left ahead' 'Vehicles over 3.5 metric tons prohibited'\n",
      " 'End of speed limit (80km/h)' 'Bumpy road' 'Go straight or right'\n",
      " 'Dangerous curve to the right' 'Roundabout mandatory' 'Double curve'\n",
      " 'Keep left' 'Bicycles crossing' 'Road narrows on the right'\n",
      " 'End of no passing by vehicles over 3.5 metric tons' 'End of no passing'\n",
      " 'Pedestrians' 'End of all speed and passing limits'\n",
      " 'Dangerous curve to the left' 'Go straight or left' 'Speed limit (20km/h)']\n"
     ]
    }
   ],
   "source": [
    "# Order signs by frequency (in training set)\n",
    "counts = np.bincount(y_train)\n",
    "sign_id_in_decreasing_frequency = np.argsort(counts)[::-1]\n",
    "sign_names_in_decreasing_frequency = np.array([ id_to_name[x] for x in sign_id_in_decreasing_frequency])\n",
    "print(sign_names_in_decreasing_frequency)"
   ]
  },
  {
   "cell_type": "markdown",
   "metadata": {},
   "source": [
    "----\n",
    "\n",
    "## Step 2: Design and Test a Model Architecture\n",
    "\n",
    "Design and implement a deep learning model that learns to recognize traffic signs. Train and test your model on the [German Traffic Sign Dataset](http://benchmark.ini.rub.de/?section=gtsrb&subsection=dataset).\n",
    "\n",
    "The LeNet-5 implementation shown in the [classroom](https://classroom.udacity.com/nanodegrees/nd013/parts/fbf77062-5703-404e-b60c-95b78b2f3f9e/modules/6df7ae49-c61c-4bb2-a23e-6527e69209ec/lessons/601ae704-1035-4287-8b11-e2c2716217ad/concepts/d4aca031-508f-4e0b-b493-e7b706120f81) at the end of the CNN lesson is a solid starting point. You'll have to change the number of classes and possibly the preprocessing, but aside from that it's plug and play! \n",
    "\n",
    "With the LeNet-5 solution from the lecture, you should expect a validation set accuracy of about 0.89. To meet specifications, the validation set accuracy will need to be at least 0.93. It is possible to get an even higher accuracy, but 0.93 is the minimum for a successful project submission. \n",
    "\n",
    "There are various aspects to consider when thinking about this problem:\n",
    "\n",
    "- Neural network architecture (is the network over or underfitting?)\n",
    "- Play around preprocessing techniques (normalization, rgb to grayscale, etc)\n",
    "- Number of examples per label (some have more than others).\n",
    "- Generate fake data.\n",
    "\n",
    "Here is an example of a [published baseline model on this problem](http://yann.lecun.com/exdb/publis/pdf/sermanet-ijcnn-11.pdf). It's not required to be familiar with the approach used in the paper but, it's good practice to try to read papers like these."
   ]
  },
  {
   "cell_type": "markdown",
   "metadata": {},
   "source": [
    "### Pre-process the Data Set (normalization, grayscale, etc.)"
   ]
  },
  {
   "cell_type": "markdown",
   "metadata": {},
   "source": [
    "Minimally, the image data should be normalized so that the data has mean zero and equal variance. For image data, `(pixel - 128)/ 128` is a quick way to approximately normalize the data and can be used in this project. \n",
    "\n",
    "Other pre-processing steps are optional. You can try different techniques to see if it improves performance. \n",
    "\n",
    "Use the code cell (or multiple code cells, if necessary) to implement the first step of your project."
   ]
  },
  {
   "cell_type": "code",
   "execution_count": 12,
   "metadata": {},
   "outputs": [
    {
     "name": "stdout",
     "output_type": "stream",
     "text": [
      "Preprocessed all datasets.\n"
     ]
    }
   ],
   "source": [
    "### Preprocess the data here. It is required to normalize the data. Other preprocessing steps could include \n",
    "### converting to grayscale, etc.\n",
    "### Feel free to use as many code cells as needed.\n",
    "\n",
    "equalize_histograms = True\n",
    "normalize_pixels = False # does not seem to improve performance\n",
    "\n",
    "def normalize(inp):\n",
    "    return (inp - 128)/128.0\n",
    "\n",
    "def preprocess(X):\n",
    "    if equalize_histograms:\n",
    "        X = np.array([equalize(img) for img in X])\n",
    "    if normalize_pixels:\n",
    "        X = normalize(X)\n",
    "    return X\n",
    "\n",
    "if not preprocessed:\n",
    "    X_train = preprocess(X_train)\n",
    "    X_valid = preprocess(X_valid)\n",
    "    X_test = preprocess(X_test)\n",
    "    preprocessed = True\n",
    "    print(\"Preprocessed all datasets.\")\n",
    "else:\n",
    "    print(\"Datasets have already been preprocessed.\")"
   ]
  },
  {
   "cell_type": "markdown",
   "metadata": {},
   "source": [
    "### Model Architecture"
   ]
  },
  {
   "cell_type": "code",
   "execution_count": 13,
   "metadata": {},
   "outputs": [],
   "source": [
    "### Define your architecture here.\n",
    "### Feel free to use as many code cells as needed.\n",
    "\n",
    "from tensorflow.contrib.layers import flatten\n",
    "\n",
    "import math\n",
    "\n",
    "init_weight_stddev = math.sqrt(2.0/(32*32*3)) # He-initialization\n",
    "\n",
    "keep_prob_ = tf.placeholder(tf.float32, name=\"keep_prob\")\n",
    "\n",
    "def selu(x):\n",
    "    alpha = 1.6732632423543772848170429916717\n",
    "    scale = 1.0507009873554804934193349852946\n",
    "    return scale*tf.where(x>=0.0, x, alpha*tf.nn.elu(x))\n",
    "\n",
    "def LeVandowskiNet(x): # because it starts with Le, and it is fired, get it?\n",
    "    weights = {\n",
    "        \"conv1\": tf.Variable(tf.truncated_normal(shape=(5, 5, 3, 8), stddev=init_weight_stddev), name=\"w_conv1\"),\n",
    "        \"conv2\": tf.Variable(tf.truncated_normal(shape=(5, 5, 8, 8), stddev=init_weight_stddev), name=\"w_conv2\"),\n",
    "        \"conv3\": tf.Variable(tf.truncated_normal(shape=(5, 5, 8, 2), stddev=init_weight_stddev), name=\"w_conv3\"),\n",
    "        \"fc1\": tf.Variable(tf.truncated_normal(shape=(10*10*2, 160), stddev=init_weight_stddev), name=\"w_fc1\"),\n",
    "        \"fc2\": tf.Variable(tf.truncated_normal(shape=(160, 120), stddev=init_weight_stddev), name=\"w_fc2\"),\n",
    "        \"fc3\": tf.Variable(tf.truncated_normal(shape=(120, 80), stddev=init_weight_stddev), name=\"w_fc3\"),\n",
    "        \"logits\": tf.Variable(tf.truncated_normal(shape=(80, n_classes), stddev=init_weight_stddev), name=\"w_logits\"),\n",
    "    }\n",
    "    \n",
    "    biases = {\n",
    "        \"conv1\": tf.Variable(tf.zeros(shape=(8,)), name=\"b_conv1\"),\n",
    "        \"conv2\": tf.Variable(tf.zeros(shape=(8,)), name=\"b_conv2\"),\n",
    "        \"conv3\": tf.Variable(tf.zeros(shape=(2,)), name=\"b_conv3\"),\n",
    "        \"fc1\": tf.Variable(tf.zeros(shape=(160,)), name=\"b_fc1\"),\n",
    "        \"fc2\": tf.Variable(tf.zeros(shape=(120,)), name=\"b_fc2\"),\n",
    "        \"fc3\": tf.Variable(tf.zeros(shape=(80,)), name=\"b_fc3\"),\n",
    "        \"logits\": tf.Variable(tf.zeros(shape=(n_classes,)), name=\"b_logits\"),\n",
    "    }\n",
    "    \n",
    "    conv1 = tf.nn.conv2d(x, weights[\"conv1\"], strides=[1,1,1,1], padding=\"VALID\")\n",
    "    conv1 = tf.add(conv1, biases[\"conv1\"])\n",
    "    conv1 = selu(conv1)\n",
    "    conv1 = tf.nn.dropout(conv1, keep_prob_)\n",
    "    print(conv1.get_shape())\n",
    "    \n",
    "    conv2 = tf.nn.conv2d(conv1, weights[\"conv2\"], strides=[1,1,1,1], padding=\"VALID\")\n",
    "    conv2 = tf.add(conv2, biases[\"conv2\"])\n",
    "    conv2 = selu(conv2)\n",
    "    conv2 = tf.nn.dropout(conv2, keep_prob_)\n",
    "    print(conv2.get_shape())\n",
    "    \n",
    "    conv3 = tf.nn.conv2d(conv2, weights[\"conv3\"], strides=[1,2,2,1], padding=\"VALID\")\n",
    "    conv3 = tf.add(conv3, biases[\"conv3\"])\n",
    "    conv3 = selu(conv3)\n",
    "    conv3 = tf.nn.dropout(conv3, keep_prob_)\n",
    "    print(conv3.get_shape())\n",
    "    \n",
    "    flattened = flatten(conv3)\n",
    "    print(flattened.get_shape())\n",
    "    \n",
    "    fc1 = tf.matmul(flattened, weights[\"fc1\"])\n",
    "    fc1 = tf.add(fc1, biases[\"fc1\"])\n",
    "    fc1 = selu(fc1)\n",
    "    fc1 = tf.nn.dropout(fc1, keep_prob_)\n",
    "    \n",
    "    fc2 = tf.matmul(fc1, weights[\"fc2\"])\n",
    "    fc2 = tf.add(fc2, biases[\"fc2\"])\n",
    "    fc2 = selu(fc2)\n",
    "    fc2 = tf.nn.dropout(fc2, keep_prob_)\n",
    "    \n",
    "    fc3 = tf.matmul(fc2, weights[\"fc3\"])\n",
    "    fc3 = tf.add(fc3, biases[\"fc3\"])\n",
    "    fc3 = selu(fc3)\n",
    "    fc3 = tf.nn.dropout(fc3, keep_prob_)\n",
    "    \n",
    "    logits = tf.matmul(fc3, weights[\"logits\"])\n",
    "    logits = tf.add(logits, biases[\"logits\"])\n",
    "    \n",
    "    layers = {\n",
    "        \"input\": x,\n",
    "        \"conv1\": conv1,\n",
    "        \"conv2\": conv2,\n",
    "        \"conv3\": conv3,\n",
    "        \"flattened\": flattened,\n",
    "        \"fc1\": fc1,\n",
    "        \"fc2\": fc2,\n",
    "        \"fc3\": fc3,\n",
    "        \"logits\": logits\n",
    "    }\n",
    "    \n",
    "    for name, layer in layers.items():\n",
    "        print(\"Shape of {}:\".format(name), layer.get_shape())\n",
    "    \n",
    "    return logits"
   ]
  },
  {
   "cell_type": "markdown",
   "metadata": {},
   "source": [
    "### Train, Validate and Test the Model"
   ]
  },
  {
   "cell_type": "markdown",
   "metadata": {},
   "source": [
    "A validation set can be used to assess how well the model is performing. A low accuracy on the training and validation\n",
    "sets imply underfitting. A high accuracy on the training set but low accuracy on the validation set implies overfitting."
   ]
  },
  {
   "cell_type": "code",
   "execution_count": 14,
   "metadata": {},
   "outputs": [
    {
     "name": "stdout",
     "output_type": "stream",
     "text": [
      "(?, 28, 28, 8)\n",
      "(?, 24, 24, 8)\n",
      "(?, 10, 10, 2)\n",
      "(?, 200)\n",
      "Shape of input: (?, 32, 32, 3)\n",
      "Shape of conv1: (?, 28, 28, 8)\n",
      "Shape of conv2: (?, 24, 24, 8)\n",
      "Shape of conv3: (?, 10, 10, 2)\n",
      "Shape of flattened: (?, 200)\n",
      "Shape of fc1: (?, 160)\n",
      "Shape of fc2: (?, 120)\n",
      "Shape of fc3: (?, 80)\n",
      "Shape of logits: (?, 43)\n"
     ]
    }
   ],
   "source": [
    "# Here, we define the Tensorflow computation graph.\n",
    "x_ = tf.placeholder(tf.float32, (None, 32, 32, 3), name=\"x\")\n",
    "y_ = tf.placeholder(tf.int32, (None), name=\"y\")\n",
    "one_hot_y = tf.one_hot(y_, n_classes, name=\"one_hot_y\")\n",
    "\n",
    "learning_rate_ = tf.placeholder(tf.float32, name=\"learning_rate\")\n",
    "\n",
    "logits = LeVandowskiNet(x_)\n",
    "cross_entropy = tf.nn.softmax_cross_entropy_with_logits(labels=one_hot_y, logits=logits)\n",
    "loss_operation = tf.reduce_mean(cross_entropy)\n",
    "optimizer = tf.train.AdamOptimizer(learning_rate_)\n",
    "training_operation = optimizer.minimize(loss_operation)"
   ]
  },
  {
   "cell_type": "code",
   "execution_count": 15,
   "metadata": {},
   "outputs": [],
   "source": [
    "### Calculate and report the accuracy on the training and validation set.\n",
    "correct_prediction = tf.equal(tf.argmax(logits, 1), tf.argmax(one_hot_y, 1))\n",
    "accuracy_operation = tf.reduce_mean(tf.cast(correct_prediction, tf.float32))\n",
    "\n",
    "def evaluate(X_data, y_data, sess):\n",
    "    num_examples = len(X_data)\n",
    "    total_accuracy = 0\n",
    "    for offset in range(0, num_examples, BATCH_SIZE):\n",
    "        batch_x, batch_y = X_data[offset:offset+BATCH_SIZE], y_data[offset:offset+BATCH_SIZE]\n",
    "        accuracy = sess.run(accuracy_operation, feed_dict={x_: batch_x, y_: batch_y, keep_prob_: 1.0})\n",
    "        total_accuracy += (accuracy * len(batch_x))\n",
    "    return total_accuracy / num_examples"
   ]
  },
  {
   "cell_type": "code",
   "execution_count": 16,
   "metadata": {},
   "outputs": [],
   "source": [
    "import matplotlib.pyplot as plt\n",
    "\n",
    "from pandas_ml import ConfusionMatrix\n",
    "\n",
    "def plot_confusion_matrix(y_data, y_predicted):\n",
    "    confusion = ConfusionMatrix(y_data, y_predicted)\n",
    "    confusion.plot()\n",
    "    plt.show()"
   ]
  },
  {
   "cell_type": "code",
   "execution_count": 17,
   "metadata": {},
   "outputs": [],
   "source": [
    "from sklearn.metrics import precision_recall_fscore_support as score\n",
    "\n",
    "def get_metrics(y_data, y_predicted):\n",
    "    precision, recall, fscore, support = score(y_data, y_predicted)\n",
    "    pr = pd.DataFrame({\n",
    "        \"name\": id_to_name,\n",
    "        \"precision\": precision,\n",
    "        \"recall\": recall,\n",
    "        \"support\": support,\n",
    "    })\n",
    "    print(pr)"
   ]
  },
  {
   "cell_type": "code",
   "execution_count": 18,
   "metadata": {},
   "outputs": [],
   "source": [
    "saver = tf.train.Saver()\n",
    "\n",
    "session_dir = \"sessions\""
   ]
  },
  {
   "cell_type": "code",
   "execution_count": 19,
   "metadata": {},
   "outputs": [
    {
     "name": "stdout",
     "output_type": "stream",
     "text": [
      "Training...\n",
      "\n",
      "EPOCH 1 ...\n",
      "Training Accuracy = 0.692\n",
      "Validation Accuracy = 0.668\n",
      "\n",
      "EPOCH 2 ...\n",
      "Training Accuracy = 0.794\n",
      "Validation Accuracy = 0.758\n",
      "\n",
      "EPOCH 3 ...\n",
      "Training Accuracy = 0.857\n",
      "Validation Accuracy = 0.820\n",
      "\n",
      "EPOCH 4 ...\n",
      "Training Accuracy = 0.860\n",
      "Validation Accuracy = 0.833\n",
      "\n",
      "EPOCH 5 ...\n",
      "Training Accuracy = 0.882\n",
      "Validation Accuracy = 0.850\n",
      "\n",
      "EPOCH 6 ...\n",
      "Training Accuracy = 0.884\n",
      "Validation Accuracy = 0.839\n",
      "\n",
      "EPOCH 7 ...\n",
      "Training Accuracy = 0.891\n",
      "Validation Accuracy = 0.856\n",
      "\n",
      "EPOCH 8 ...\n",
      "Training Accuracy = 0.889\n",
      "Validation Accuracy = 0.854\n",
      "\n",
      "EPOCH 9 ...\n",
      "Training Accuracy = 0.901\n",
      "Validation Accuracy = 0.872\n",
      "\n",
      "EPOCH 10 ...\n",
      "Training Accuracy = 0.917\n",
      "Validation Accuracy = 0.878\n",
      "\n",
      "EPOCH 11 ...\n",
      "Training Accuracy = 0.915\n",
      "Validation Accuracy = 0.887\n",
      "\n",
      "EPOCH 12 ...\n",
      "Training Accuracy = 0.898\n",
      "Validation Accuracy = 0.877\n",
      "\n",
      "EPOCH 13 ...\n",
      "Training Accuracy = 0.907\n",
      "Validation Accuracy = 0.895\n",
      "\n",
      "EPOCH 14 ...\n",
      "Training Accuracy = 0.936\n",
      "Validation Accuracy = 0.914\n",
      "\n",
      "EPOCH 15 ...\n",
      "Training Accuracy = 0.921\n",
      "Validation Accuracy = 0.907\n",
      "\n",
      "Session saved as sessions/1506028312/LeVandowski.ckpt.\n"
     ]
    }
   ],
   "source": [
    "# Here, we train the model.\n",
    "BATCH_SIZE = 128\n",
    "\n",
    "from time import time\n",
    "\n",
    "timestamp = int(time())\n",
    "\n",
    "if not os.path.exists(session_dir):\n",
    "    os.makedirs(session_dir)\n",
    "    \n",
    "timestamped_session_dir = os.path.join(session_dir, str(timestamp))\n",
    "\n",
    "if not os.path.exists(timestamped_session_dir):\n",
    "    os.makedirs(timestamped_session_dir)\n",
    "\n",
    "session_file = os.path.join(timestamped_session_dir, \"LeVandowski.ckpt\")\n",
    "\n",
    "# num_epochs, learning_rate, keep_prob, (x_data, y_data)\n",
    "#scheduler = [(5, 0.001, 1.0, (augmented_X_train, augmented_y_train)),\n",
    "#             (5, 0.001, 1.0, (augmented_X_train, augmented_y_train)),\n",
    "#             (5, 0.001, 0.9, (augmented_X_train, augmented_y_train))]\n",
    "\n",
    "scheduler = [(5, 0.001, 1.0, (augmented_X_train, augmented_y_train)),\n",
    "             (5, 0.001, 1.0, (augmented_X_train, augmented_y_train)),\n",
    "             (5, 0.001, 0.9, (augmented_X_train, augmented_y_train))]\n",
    "\n",
    "max_validation_accuracy = 0.0\n",
    "\n",
    "#x_data, y_data = augmented_X_train, augmented_y_train\n",
    "\n",
    "with tf.Session() as sess:\n",
    "    sess.run(tf.global_variables_initializer())\n",
    "    num_examples = len(X_train)\n",
    "    print(\"Training...\")\n",
    "    print()\n",
    "    global_epoch_count = 0\n",
    "    for epochs, lr, kp, (x_data, y_data) in scheduler:\n",
    "        for _ in range(epochs):\n",
    "            x_data, y_data = shuffle(x_data, y_data)\n",
    "            for offset in range(0, num_examples, BATCH_SIZE):\n",
    "                end = min(offset + BATCH_SIZE, num_examples)\n",
    "                batch_x, batch_y = x_data[offset:end], y_data[offset:end]\n",
    "                sess.run(\n",
    "                    training_operation,\n",
    "                    feed_dict={x_: batch_x, y_: batch_y, keep_prob_: kp, learning_rate_: lr}\n",
    "                )\n",
    "            #training_accuracy = evaluate(x_data, y_data, sess) # with dropout desactivated\n",
    "            training_accuracy = evaluate(X_train, y_train, sess) # REMOVE\n",
    "            validation_accuracy = evaluate(X_valid, y_valid, sess)\n",
    "            if validation_accuracy > max_validation_accuracy:\n",
    "                max_validation_accuracy = validation_accuracy\n",
    "                saver.save(sess, session_file)\n",
    "\n",
    "            print(\"EPOCH {} ...\".format(global_epoch_count+1))\n",
    "            print(\"Training Accuracy = {:.3f}\".format(training_accuracy))\n",
    "            print(\"Validation Accuracy = {:.3f}\".format(validation_accuracy))\n",
    "            print()\n",
    "            global_epoch_count += 1\n",
    "    \n",
    "    print(\"Session saved as {}.\".format(session_file))"
   ]
  },
  {
   "cell_type": "code",
   "execution_count": 20,
   "metadata": {},
   "outputs": [
    {
     "name": "stdout",
     "output_type": "stream",
     "text": [
      "INFO:tensorflow:Restoring parameters from sessions/1506028312/LeVandowski.ckpt\n",
      "Session restored.\n"
     ]
    },
    {
     "data": {
      "image/png": "[encoded data removed]",
      "text/plain": [
       "<matplotlib.figure.Figure at 0x7f753319e978>"
      ]
     },
     "metadata": {},
     "output_type": "display_data"
    },
    {
     "name": "stdout",
     "output_type": "stream",
     "text": [
      "                                                 name  precision    recall  \\\n",
      "0                                Speed limit (20km/h)   1.000000  0.766667   \n",
      "1                                Speed limit (30km/h)   0.974684  0.962500   \n",
      "2                                Speed limit (50km/h)   0.930328  0.945833   \n",
      "3                                Speed limit (60km/h)   0.888889  0.853333   \n",
      "4                                Speed limit (70km/h)   0.835341  0.990476   \n",
      "5                                Speed limit (80km/h)   0.823293  0.976190   \n",
      "6                         End of speed limit (80km/h)   0.982456  0.933333   \n",
      "7                               Speed limit (100km/h)   0.970803  0.886667   \n",
      "8                               Speed limit (120km/h)   0.957895  0.606667   \n",
      "9                                          No passing   0.979730  0.966667   \n",
      "10       No passing for vehicles over 3.5 metric tons   0.948113  0.957143   \n",
      "11              Right-of-way at the next intersection   0.875000  0.980000   \n",
      "12                                      Priority road   0.798479  1.000000   \n",
      "13                                              Yield   0.952191  0.995833   \n",
      "14                                               Stop   0.988889  0.988889   \n",
      "15                                        No vehicles   0.765766  0.944444   \n",
      "16           Vehicles over 3.5 metric tons prohibited   1.000000  0.966667   \n",
      "17                                           No entry   0.991736  1.000000   \n",
      "18                                    General caution   1.000000  0.966667   \n",
      "19                        Dangerous curve to the left   1.000000  0.866667   \n",
      "20                       Dangerous curve to the right   0.791667  0.316667   \n",
      "21                                       Double curve   0.933333  0.700000   \n",
      "22                                         Bumpy road   1.000000  1.000000   \n",
      "23                                      Slippery road   0.666667  0.933333   \n",
      "24                          Road narrows on the right   0.703704  0.633333   \n",
      "25                                          Road work   0.979866  0.973333   \n",
      "26                                    Traffic signals   0.921875  0.983333   \n",
      "27                                        Pedestrians   0.869565  0.666667   \n",
      "28                                  Children crossing   0.833333  1.000000   \n",
      "29                                  Bicycles crossing   0.904762  0.633333   \n",
      "30                                 Beware of ice/snow   0.914894  0.716667   \n",
      "31                              Wild animals crossing   0.939024  0.855556   \n",
      "32                End of all speed and passing limits   0.756757  0.933333   \n",
      "33                                   Turn right ahead   0.945055  0.955556   \n",
      "34                                    Turn left ahead   0.982759  0.950000   \n",
      "35                                         Ahead only   0.982456  0.933333   \n",
      "36                               Go straight or right   0.967742  1.000000   \n",
      "37                                Go straight or left   0.967742  1.000000   \n",
      "38                                         Keep right   0.960784  0.933333   \n",
      "39                                          Keep left   0.882353  1.000000   \n",
      "40                               Roundabout mandatory   0.815789  0.516667   \n",
      "41                                  End of no passing   1.000000  0.766667   \n",
      "42  End of no passing by vehicles over 3.5 metric ...   1.000000  0.700000   \n",
      "\n",
      "    support  \n",
      "0        30  \n",
      "1       240  \n",
      "2       240  \n",
      "3       150  \n",
      "4       210  \n",
      "5       210  \n",
      "6        60  \n",
      "7       150  \n",
      "8       150  \n",
      "9       150  \n",
      "10      210  \n",
      "11      150  \n",
      "12      210  \n",
      "13      240  \n",
      "14       90  \n",
      "15       90  \n",
      "16       60  \n",
      "17      120  \n",
      "18      120  \n",
      "19       30  \n",
      "20       60  \n",
      "21       60  \n",
      "22       60  \n",
      "23       60  \n",
      "24       30  \n",
      "25      150  \n",
      "26       60  \n",
      "27       30  \n",
      "28       60  \n",
      "29       30  \n",
      "30       60  \n",
      "31       90  \n",
      "32       30  \n",
      "33       90  \n",
      "34       60  \n",
      "35      120  \n",
      "36       60  \n",
      "37       30  \n",
      "38      210  \n",
      "39       30  \n",
      "40       60  \n",
      "41       30  \n",
      "42       30  \n"
     ]
    }
   ],
   "source": [
    "with tf.Session() as sess:\n",
    "    # Restore session\n",
    "    sessions = [os.path.join(session_dir, timestamp) for timestamp in os.listdir(session_dir)]\n",
    "    latest_session = max(sessions, key=os.path.getctime)\n",
    "    saver.restore(sess, os.path.join(latest_session, \"LeVandowski.ckpt\"))\n",
    "    print(\"Session restored.\")\n",
    "    data_logits = sess.run(logits, feed_dict={x_: X_valid, keep_prob_: 1.0})\n",
    "    y_predicted = np.array([ l.argmax() for l in data_logits])\n",
    "    plot_confusion_matrix(y_valid, y_predicted)\n",
    "    get_metrics(y_valid, y_predicted)"
   ]
  },
  {
   "cell_type": "markdown",
   "metadata": {},
   "source": [
    "---\n",
    "\n",
    "## Step 3: Test a Model on New Images\n",
    "\n",
    "To give yourself more insight into how your model is working, download at least five pictures of German traffic signs from the web and use your model to predict the traffic sign type.\n",
    "\n",
    "You may find `signnames.csv` useful as it contains mappings from the class id (integer) to the actual sign name."
   ]
  },
  {
   "cell_type": "markdown",
   "metadata": {},
   "source": [
    "### Load and Output the Images"
   ]
  },
  {
   "cell_type": "code",
   "execution_count": 21,
   "metadata": {},
   "outputs": [
    {
     "data": {
      "image/png": "[encoded data removed]",
      "text/plain": [
       "<matplotlib.figure.Figure at 0x7f7556380860>"
      ]
     },
     "metadata": {},
     "output_type": "display_data"
    },
    {
     "data": {
      "image/png": "[encoded data removed]",
      "text/plain": [
       "<matplotlib.figure.Figure at 0x7f75166ddd30>"
      ]
     },
     "metadata": {},
     "output_type": "display_data"
    },
    {
     "data": {
      "image/png": "[encoded data removed]",
      "text/plain": [
       "<matplotlib.figure.Figure at 0x7f7516693f28>"
      ]
     },
     "metadata": {},
     "output_type": "display_data"
    },
    {
     "data": {
      "image/png": "[encoded data removed]",
      "text/plain": [
       "<matplotlib.figure.Figure at 0x7f75166a4198>"
      ]
     },
     "metadata": {},
     "output_type": "display_data"
    },
    {
     "data": {
      "image/png": "[encoded data removed]",
      "text/plain": [
       "<matplotlib.figure.Figure at 0x7f7516616940>"
      ]
     },
     "metadata": {},
     "output_type": "display_data"
    }
   ],
   "source": [
    "### Load the images and plot them here.\n",
    "### Feel free to use as many code cells as needed.\n",
    "\n",
    "imgs = []\n",
    "\n",
    "for i in range(1,6):\n",
    "    filename = \"examples/challenges/{}.jpg\".format(i)\n",
    "    img = cv2.imread(filename)\n",
    "    img = cv2.cvtColor(img, cv2.COLOR_BGR2RGB)\n",
    "    resized = cv2.resize(img, (32,32))\n",
    "    imgs.append(resized)\n",
    "\n",
    "imgs = np.stack(imgs)\n",
    "preprocess(imgs)\n",
    "\n",
    "for im in imgs:\n",
    "    plt.figure(figsize=(3,3))\n",
    "    plt.imshow(im)\n",
    "    plt.xticks([])\n",
    "    plt.yticks([])\n",
    "    plt.show()"
   ]
  },
  {
   "cell_type": "markdown",
   "metadata": {},
   "source": [
    "### Predict the Sign Type for Each Image"
   ]
  },
  {
   "cell_type": "code",
   "execution_count": 22,
   "metadata": {},
   "outputs": [
    {
     "name": "stdout",
     "output_type": "stream",
     "text": [
      "INFO:tensorflow:Restoring parameters from sessions/1506028312/LeVandowski.ckpt\n",
      "Session restored.\n",
      "['Slippery road' 'General caution' 'Keep right' 'Road work'\n",
      " 'Speed limit (50km/h)']\n"
     ]
    }
   ],
   "source": [
    "### Run the predictions here and use the model to output the prediction for each image.\n",
    "### Make sure to pre-process the images with the same pre-processing pipeline used earlier.\n",
    "### Feel free to use as many code cells as needed.\n",
    "\n",
    "with tf.Session() as sess:\n",
    "    # Restore session\n",
    "    sessions = [os.path.join(session_dir, timestamp) for timestamp in os.listdir(session_dir)]\n",
    "    latest_session = max(sessions, key=os.path.getctime)\n",
    "    saver.restore(sess, os.path.join(latest_session, \"LeVandowski.ckpt\"))\n",
    "    print(\"Session restored.\")\n",
    "    data_logits = sess.run(logits, feed_dict={x_: imgs, keep_prob_: 1.0})\n",
    "    y_predicted = np.array([ l.argmax() for l in data_logits])\n",
    "    print(id_to_name[y_predicted])"
   ]
  },
  {
   "cell_type": "markdown",
   "metadata": {},
   "source": [
    "### Analyze Performance"
   ]
  },
  {
   "cell_type": "code",
   "execution_count": 23,
   "metadata": {},
   "outputs": [
    {
     "name": "stdout",
     "output_type": "stream",
     "text": [
      "INFO:tensorflow:Restoring parameters from sessions/1506028312/LeVandowski.ckpt\n",
      "Session restored.\n",
      "Accuracy: 0.6\n"
     ]
    }
   ],
   "source": [
    "### Calculate the accuracy for these 5 new images. \n",
    "### For example, if the model predicted 1 out of 5 signs correctly, it's 20% accurate on these new images.\n",
    "y_real = np.array([23, 18, 13, 25, 28])\n",
    "\n",
    "with tf.Session() as sess:\n",
    "    # Restore session\n",
    "    sessions = [os.path.join(session_dir, timestamp) for timestamp in os.listdir(session_dir)]\n",
    "    latest_session = max(sessions, key=os.path.getctime)\n",
    "    saver.restore(sess, os.path.join(latest_session, \"LeVandowski.ckpt\"))\n",
    "    print(\"Session restored.\")\n",
    "    acc = sess.run(accuracy_operation, feed_dict={x_: imgs, y_: y_real, keep_prob_: 1.0})\n",
    "    print(\"Accuracy:\", acc)"
   ]
  },
  {
   "cell_type": "markdown",
   "metadata": {},
   "source": [
    "### Output Top 5 Softmax Probabilities For Each Image Found on the Web"
   ]
  },
  {
   "cell_type": "markdown",
   "metadata": {},
   "source": [
    "For each of the new images, print out the model's softmax probabilities to show the **certainty** of the model's predictions (limit the output to the top 5 probabilities for each image). [`tf.nn.top_k`](https://www.tensorflow.org/versions/r0.12/api_docs/python/nn.html#top_k) could prove helpful here. \n",
    "\n",
    "The example below demonstrates how tf.nn.top_k can be used to find the top k predictions for each image.\n",
    "\n",
    "`tf.nn.top_k` will return the values and indices (class ids) of the top k predictions. So if k=3, for each sign, it'll return the 3 largest probabilities (out of a possible 43) and the correspoding class ids.\n",
    "\n",
    "Take this numpy array as an example. The values in the array represent predictions. The array contains softmax probabilities for five candidate images with six possible classes. `tf.nn.top_k` is used to choose the three classes with the highest probability:\n",
    "\n",
    "```\n",
    "# (5, 6) array\n",
    "a = np.array([[ 0.24879643,  0.07032244,  0.12641572,  0.34763842,  0.07893497,\n",
    "         0.12789202],\n",
    "       [ 0.28086119,  0.27569815,  0.08594638,  0.0178669 ,  0.18063401,\n",
    "         0.15899337],\n",
    "       [ 0.26076848,  0.23664738,  0.08020603,  0.07001922,  0.1134371 ,\n",
    "         0.23892179],\n",
    "       [ 0.11943333,  0.29198961,  0.02605103,  0.26234032,  0.1351348 ,\n",
    "         0.16505091],\n",
    "       [ 0.09561176,  0.34396535,  0.0643941 ,  0.16240774,  0.24206137,\n",
    "         0.09155967]])\n",
    "```\n",
    "\n",
    "Running it through `sess.run(tf.nn.top_k(tf.constant(a), k=3))` produces:\n",
    "\n",
    "```\n",
    "TopKV2(values=array([[ 0.34763842,  0.24879643,  0.12789202],\n",
    "       [ 0.28086119,  0.27569815,  0.18063401],\n",
    "       [ 0.26076848,  0.23892179,  0.23664738],\n",
    "       [ 0.29198961,  0.26234032,  0.16505091],\n",
    "       [ 0.34396535,  0.24206137,  0.16240774]]), indices=array([[3, 0, 5],\n",
    "       [0, 1, 4],\n",
    "       [0, 5, 1],\n",
    "       [1, 3, 5],\n",
    "       [1, 4, 3]], dtype=int32))\n",
    "```\n",
    "\n",
    "Looking just at the first row we get `[ 0.34763842,  0.24879643,  0.12789202]`, you can confirm these are the 3 largest probabilities in `a`. You'll also notice `[3, 0, 5]` are the corresponding indices."
   ]
  },
  {
   "cell_type": "code",
   "execution_count": 37,
   "metadata": {},
   "outputs": [
    {
     "name": "stdout",
     "output_type": "stream",
     "text": [
      "INFO:tensorflow:Restoring parameters from sessions/1506028312/LeVandowski.ckpt\n",
      "Session restored.\n",
      "[[23 21 11 24 31]\n",
      " [18 26 27 11 12]\n",
      " [38 13 34  4 36]\n",
      " [25 26 20 18 11]\n",
      " [ 2 31  1  5  8]]\n",
      "[array(['Slippery road', 'Double curve',\n",
      "       'Right-of-way at the next intersection',\n",
      "       'Road narrows on the right', 'Wild animals crossing'],\n",
      "      dtype='<U50'), array(['General caution', 'Traffic signals', 'Pedestrians',\n",
      "       'Right-of-way at the next intersection', 'Priority road'],\n",
      "      dtype='<U50'), array(['Keep right', 'Yield', 'Turn left ahead', 'Speed limit (70km/h)',\n",
      "       'Go straight or right'],\n",
      "      dtype='<U50'), array(['Road work', 'Traffic signals', 'Dangerous curve to the right',\n",
      "       'General caution', 'Right-of-way at the next intersection'],\n",
      "      dtype='<U50'), array(['Speed limit (50km/h)', 'Wild animals crossing',\n",
      "       'Speed limit (30km/h)', 'Speed limit (80km/h)',\n",
      "       'Speed limit (120km/h)'],\n",
      "      dtype='<U50')]\n"
     ]
    }
   ],
   "source": [
    "### Print out the top five softmax probabilities for the predictions on the German traffic sign images found on the web. \n",
    "### Feel free to use as many code cells as needed.\n",
    "\n",
    "with tf.Session() as sess:\n",
    "    # Restore session\n",
    "    sessions = [os.path.join(session_dir, timestamp) for timestamp in os.listdir(session_dir)]\n",
    "    latest_session = max(sessions, key=os.path.getctime)\n",
    "    saver.restore(sess, os.path.join(latest_session, \"LeVandowski.ckpt\"))\n",
    "    print(\"Session restored.\")\n",
    "    logit_values = sess.run(logits, feed_dict={x_: imgs, keep_prob_: 1.0})\n",
    "    top_args = np.argsort(logit_values, axis=1)[:,::-1][:,:5]\n",
    "    print(top_args)\n",
    "    print([id_to_name[x] for x in top_args])"
   ]
  },
  {
   "cell_type": "markdown",
   "metadata": {},
   "source": [
    "### Project Writeup\n",
    "\n",
    "Once you have completed the code implementation, document your results in a project writeup using this [template](https://github.com/udacity/CarND-Traffic-Sign-Classifier-Project/blob/master/writeup_template.md) as a guide. The writeup can be in a markdown or pdf file. "
   ]
  },
  {
   "cell_type": "markdown",
   "metadata": {},
   "source": [
    "> **Note**: Once you have completed all of the code implementations and successfully answered each question above, you may finalize your work by exporting the iPython Notebook as an HTML document. You can do this by using the menu above and navigating to  \\n\",\n",
    "    \"**File -> Download as -> HTML (.html)**. Include the finished document along with this notebook as your submission."
   ]
  },
  {
   "cell_type": "markdown",
   "metadata": {},
   "source": [
    "---\n",
    "\n",
    "## Step 4 (Optional): Visualize the Neural Network's State with Test Images\n",
    "\n",
    " This Section is not required to complete but acts as an additional excersise for understaning the output of a neural network's weights. While neural networks can be a great learning device they are often referred to as a black box. We can understand what the weights of a neural network look like better by plotting their feature maps. After successfully training your neural network you can see what it's feature maps look like by plotting the output of the network's weight layers in response to a test stimuli image. From these plotted feature maps, it's possible to see what characteristics of an image the network finds interesting. For a sign, maybe the inner network feature maps react with high activation to the sign's boundary outline or to the contrast in the sign's painted symbol.\n",
    "\n",
    " Provided for you below is the function code that allows you to get the visualization output of any tensorflow weight layer you want. The inputs to the function should be a stimuli image, one used during training or a new one you provided, and then the tensorflow variable name that represents the layer's state during the training process, for instance if you wanted to see what the [LeNet lab's](https://classroom.udacity.com/nanodegrees/nd013/parts/fbf77062-5703-404e-b60c-95b78b2f3f9e/modules/6df7ae49-c61c-4bb2-a23e-6527e69209ec/lessons/601ae704-1035-4287-8b11-e2c2716217ad/concepts/d4aca031-508f-4e0b-b493-e7b706120f81) feature maps looked like for it's second convolutional layer you could enter conv2 as the tf_activation variable.\n",
    "\n",
    "For an example of what feature map outputs look like, check out NVIDIA's results in their paper [End-to-End Deep Learning for Self-Driving Cars](https://devblogs.nvidia.com/parallelforall/deep-learning-self-driving-cars/) in the section Visualization of internal CNN State. NVIDIA was able to show that their network's inner weights had high activations to road boundary lines by comparing feature maps from an image with a clear path to one without. Try experimenting with a similar test to show that your trained network's weights are looking for interesting features, whether it's looking at differences in feature maps from images with or without a sign, or even what feature maps look like in a trained network vs a completely untrained one on the same sign image.\n",
    "\n",
    "<figure>\n",
    " <img src=\"visualize_cnn.png\" width=\"380\" alt=\"Combined Image\" />\n",
    " <figcaption>\n",
    " <p></p> \n",
    " <p style=\"text-align: center;\"> Your output should look something like this (above)</p> \n",
    " </figcaption>\n",
    "</figure>\n",
    " <p></p> \n"
   ]
  },
  {
   "cell_type": "code",
   "execution_count": 25,
   "metadata": {},
   "outputs": [],
   "source": [
    "### Visualize your network's feature maps here.\n",
    "### Feel free to use as many code cells as needed.\n",
    "\n",
    "# image_input: the test image being fed into the network to produce the feature maps\n",
    "# tf_activation: should be a tf variable name used during your training procedure that represents the calculated state of a specific weight layer\n",
    "# activation_min/max: can be used to view the activation contrast in more detail, by default matplot sets min and max to the actual min and max values of the output\n",
    "# plt_num: used to plot out multiple different weight feature map sets on the same block, just extend the plt number for each new feature map entry\n",
    "\n",
    "def outputFeatureMap(image_input, tf_activation, activation_min=-1, activation_max=-1 ,plt_num=1):\n",
    "    # Here make sure to preprocess your image_input in a way your network expects\n",
    "    # with size, normalization, ect if needed\n",
    "    # image_input =\n",
    "    # Note: x should be the same name as your network's tensorflow data placeholder variable\n",
    "    # If you get an error tf_activation is not defined it may be having trouble accessing the variable from inside a function\n",
    "    activation = tf_activation.eval(session=sess,feed_dict={x_ : image_input})\n",
    "    featuremaps = activation.shape[3]\n",
    "    plt.figure(plt_num, figsize=(15,15))\n",
    "    for featuremap in range(featuremaps):\n",
    "        plt.subplot(6,8, featuremap+1) # sets the number of feature maps to show on each row and column\n",
    "        plt.title('FeatureMap ' + str(featuremap)) # displays the feature map number\n",
    "        if activation_min != -1 & activation_max != -1:\n",
    "            plt.imshow(activation[0,:,:, featuremap], interpolation=\"nearest\", vmin =activation_min, vmax=activation_max, cmap=\"gray\")\n",
    "        elif activation_max != -1:\n",
    "            plt.imshow(activation[0,:,:, featuremap], interpolation=\"nearest\", vmax=activation_max, cmap=\"gray\")\n",
    "        elif activation_min !=-1:\n",
    "            plt.imshow(activation[0,:,:, featuremap], interpolation=\"nearest\", vmin=activation_min, cmap=\"gray\")\n",
    "        else:\n",
    "            plt.imshow(activation[0,:,:, featuremap], interpolation=\"nearest\", cmap=\"gray\")"
   ]
  }
 ],
 "metadata": {
  "anaconda-cloud": {},
  "kernelspec": {
   "display_name": "Python 3",
   "language": "python",
   "name": "python3"
  },
  "language_info": {
   "codemirror_mode": {
    "name": "ipython",
    "version": 3
   },
   "file_extension": ".py",
   "mimetype": "text/x-python",
   "name": "python",
   "nbconvert_exporter": "python",
   "pygments_lexer": "ipython3",
   "version": "3.6.2"
  },
  "widgets": {
   "state": {},
   "version": "1.1.2"
  }
 },
 "nbformat": 4,
 "nbformat_minor": 1
}
